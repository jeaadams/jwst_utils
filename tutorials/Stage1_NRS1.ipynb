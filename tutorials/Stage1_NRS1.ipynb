{
 "cells": [
  {
   "cell_type": "markdown",
   "id": "9dde4d1d-4a71-4da1-ae07-cedcdf86831b",
   "metadata": {},
   "source": [
    "# G395H Stage 1 Transmission Spectrum Reduction\n",
    "\n",
    "In this notebook, I'm going to demo a quick Stage 1 reduction of JWST NIRSPEC G395H data for NRS1 (32, 2048)."
   ]
  },
  {
   "cell_type": "code",
   "execution_count": 1,
   "id": "b24634cf-ddda-4203-82ad-bf76bc19f672",
   "metadata": {},
   "outputs": [
    {
     "name": "stderr",
     "output_type": "stream",
     "text": [
      "2023-08-01 22:12:23,294 - stpipe - WARNING - /Users/jea/anaconda3/envs/Tiberius/lib/python3.8/site-packages/stcal/jump/jump.py:17: UserWarning: Could not import `opencv-python`; certain snowball detection and usage of ellipses will be inoperable\n",
      "  warnings.warn('Could not import `opencv-python`; '\n",
      "\n"
     ]
    }
   ],
   "source": [
    "import g395h_helpers as g\n",
    "import logging\n",
    "import os\n",
    "import sys\n",
    "%load_ext autoreload\n",
    "%autoreload 2"
   ]
  },
  {
   "cell_type": "markdown",
   "id": "c5ff8922-a34c-428e-8481-45fd6f1eb0b1",
   "metadata": {},
   "source": [
    "### For optimal performance, turn off logging"
   ]
  },
  {
   "cell_type": "code",
   "execution_count": 2,
   "id": "4eb679e2-b692-464a-b70f-04e05a0ba4b4",
   "metadata": {},
   "outputs": [],
   "source": [
    "logging.disable(sys.maxsize)"
   ]
  },
  {
   "cell_type": "markdown",
   "id": "c2a8d6d9-6421-4952-8410-eae7bb726ead",
   "metadata": {},
   "source": [
    "### Set up path to data and relevant parameters"
   ]
  },
  {
   "cell_type": "code",
   "execution_count": 3,
   "id": "61a303c8-b2b8-4bcc-8b2f-226f2a04e187",
   "metadata": {},
   "outputs": [],
   "source": [
    "path_to_data = './test_data/nrs1/'\n",
    "filename = 'jw02512011001_04102_00001-seg001_nrs1_uncal.fits'\n",
    "path_to_crds = 'crds_cache/jwst_pub/references/jwst/nirspec/'\n",
    "perform_1overf = True\n",
    "row_min = 600\n",
    "row_max = 2000\n",
    "oversampling_factor = 10 \n",
    "search_width = 10 \n",
    "guess_locations = 16\n",
    "gaussian_width = 5\n",
    "trace_poly_order = 4"
   ]
  },
  {
   "cell_type": "markdown",
   "id": "9ecdb573-6b40-40ff-86d1-56b5d8e102cd",
   "metadata": {},
   "source": [
    "### Set CRDS parameters"
   ]
  },
  {
   "cell_type": "code",
   "execution_count": 4,
   "id": "6c1c3000-325c-4145-b4dd-50aceafb8f18",
   "metadata": {},
   "outputs": [],
   "source": [
    "os.environ['CRDS_SERVER_URL'] = 'https://jwst-crds.stsci.edu'\n",
    "os.environ['CRDS_PATH'] = '/Users/jea/Tiberius_Edits/crds_cache/'"
   ]
  },
  {
   "cell_type": "markdown",
   "id": "f3184da3-677a-4772-ba30-e16e6c73f27d",
   "metadata": {},
   "source": [
    "### Run pipeline"
   ]
  },
  {
   "cell_type": "code",
   "execution_count": 5,
   "id": "9fb01f56-4266-4332-a717-97408a7863f9",
   "metadata": {},
   "outputs": [
    {
     "name": "stdout",
     "output_type": "stream",
     "text": [
      "Running Group Scale\n",
      "Running DQ Init\n",
      "Running Saturation\n",
      "Running Superbias\n",
      "Running Refpix\n",
      "Running Linearity\n",
      "Running Dark Current\n",
      "Running Jump\n",
      "Running 1/f Correction\n"
     ]
    },
    {
     "data": {
      "application/vnd.jupyter.widget-view+json": {
       "model_id": "6547db13b86d410ab22cd67a8c8bb373",
       "version_major": 2,
       "version_minor": 0
      },
      "text/plain": [
       "interactive(children=(IntSlider(value=10, description='Aperture Width', max=20, min=1), IntSlider(value=5, des…"
      ]
     },
     "metadata": {},
     "output_type": "display_data"
    },
    {
     "name": "stdin",
     "output_type": "stream",
     "text": [
      "Enter your preferred aperture width:  7\n",
      "Enter your preferred background offset:  5\n"
     ]
    },
    {
     "name": "stderr",
     "output_type": "stream",
     "text": [
      "100%|██████████████████████████████████████████████████████████████████████████████████████████████████████████████████████████████████████████████| 1525/1525 [06:41<00:00,  3.80it/s]\n"
     ]
    },
    {
     "name": "stdout",
     "output_type": "stream",
     "text": [
      "Running Ramp Fit\n",
      "Running Gain Scale\n",
      "Saved as jw02512011001_04102_00001-seg001_nrs1_rateints.fits/./test_data/nrs1/\n"
     ]
    }
   ],
   "source": [
    "image = g.stage1_nrs1(path_to_data = path_to_data, \n",
    "            filename = filename, \n",
    "            path_to_crds = path_to_crds,\n",
    "            perform_1overf = True,\n",
    "            row_min = row_min,\n",
    "            row_max = row_max, \n",
    "            oversampling_factor = oversampling_factor, \n",
    "            search_width = search_width, \n",
    "            guess_locations = guess_locations, \n",
    "            gaussian_width = gaussian_width,\n",
    "            trace_poly_order = trace_poly_order, \n",
    "            choose_aperture = True)\n"
   ]
  },
  {
   "cell_type": "code",
   "execution_count": null,
   "id": "84fb5b7c-dfae-4386-94a8-1e7da5dc9d4f",
   "metadata": {},
   "outputs": [],
   "source": []
  }
 ],
 "metadata": {
  "kernelspec": {
   "display_name": "Tiberius",
   "language": "python",
   "name": "tiberius"
  },
  "language_info": {
   "codemirror_mode": {
    "name": "ipython",
    "version": 3
   },
   "file_extension": ".py",
   "mimetype": "text/x-python",
   "name": "python",
   "nbconvert_exporter": "python",
   "pygments_lexer": "ipython3",
   "version": "3.8.17"
  }
 },
 "nbformat": 4,
 "nbformat_minor": 5
}
